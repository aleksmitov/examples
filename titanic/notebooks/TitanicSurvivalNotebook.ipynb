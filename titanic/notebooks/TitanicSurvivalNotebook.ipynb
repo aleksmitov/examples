{
 "cells": [
  {
   "cell_type": "markdown",
   "metadata": {},
   "source": [
    "# Layer Titanic Example\n",
    "\n",
    "https://github.com/layerml/examples/tree/main/titanic\n",
    "\n",
    "A classification example with `sklearn.RandomForestClassifier` for predicting the survivals of the Titanic passengers. We will be using the famous [Kaggle Titanic dataset](https://www.kaggle.com/c/titanic/data?select=train.csv)."
   ]
  },
  {
   "cell_type": "code",
   "execution_count": 5,
   "metadata": {},
   "outputs": [],
   "source": [
    "import layer\n",
    "import seaborn as sns\n",
    "import matplotlib.pyplot as plt\n",
    "%matplotlib inline\n",
    "\n",
    "# You should have a Layer account by now, you can login with:\n",
    "layer.login()"
   ]
  },
  {
   "cell_type": "markdown",
   "metadata": {},
   "source": [
    "# 1. Explore the features\n",
    "Layer provides a central repository for your datasets and feature sets so that they can be systematically built, monitored, and evaluated to reduce the cost of errors. Layer Discover helps data team members to find the data that they need, serves as an repository of available data. Now, let's take a look at the datasets and the features we have used/created in the [Titanic Project](https://github.com/layerml/examples/tree/main/titanic)"
   ]
  },
  {
   "cell_type": "markdown",
   "metadata": {},
   "source": [
    "## a. Analyze the Datasets\n",
    "A dataset is a reference of your data in an external data source. You can add a database table or a CSV in a cloud file storage as a dataset to the Datasets tab. Titanic dataset is the source data which contains the passenger information. This dataset is introduced in the Datasets tab with this [file](https://github.com/layerml/examples/blob/main/titanic/data/titanic_data/dataset.yaml). Now, let's fetch it from Layer and analyze it. We can fetch the dataset as a `pandas` or `spark` dataframe."
   ]
  },
  {
   "cell_type": "code",
   "execution_count": 11,
   "metadata": {},
   "outputs": [
    {
     "data": {
      "text/html": [
       "<div>\n",
       "<style scoped>\n",
       "    .dataframe tbody tr th:only-of-type {\n",
       "        vertical-align: middle;\n",
       "    }\n",
       "\n",
       "    .dataframe tbody tr th {\n",
       "        vertical-align: top;\n",
       "    }\n",
       "\n",
       "    .dataframe thead th {\n",
       "        text-align: right;\n",
       "    }\n",
       "</style>\n",
       "<table border=\"1\" class=\"dataframe\">\n",
       "  <thead>\n",
       "    <tr style=\"text-align: right;\">\n",
       "      <th></th>\n",
       "      <th>SURVIVED</th>\n",
       "      <th>PASSENGERID</th>\n",
       "      <th>EMBARKED</th>\n",
       "      <th>NAME</th>\n",
       "      <th>AGE</th>\n",
       "      <th>SEX</th>\n",
       "      <th>FARE</th>\n",
       "      <th>PARCH</th>\n",
       "      <th>CABIN</th>\n",
       "      <th>TICKET</th>\n",
       "      <th>PCLASS</th>\n",
       "      <th>SIBSP</th>\n",
       "    </tr>\n",
       "  </thead>\n",
       "  <tbody>\n",
       "    <tr>\n",
       "      <th>0</th>\n",
       "      <td>0</td>\n",
       "      <td>1</td>\n",
       "      <td>S</td>\n",
       "      <td>Braund, Mr. Owen Harris</td>\n",
       "      <td>22.0</td>\n",
       "      <td>male</td>\n",
       "      <td>7.2500</td>\n",
       "      <td>0</td>\n",
       "      <td>None</td>\n",
       "      <td>A/5 21171</td>\n",
       "      <td>3</td>\n",
       "      <td>1</td>\n",
       "    </tr>\n",
       "    <tr>\n",
       "      <th>1</th>\n",
       "      <td>1</td>\n",
       "      <td>2</td>\n",
       "      <td>C</td>\n",
       "      <td>Cumings, Mrs. John Bradley (Florence Briggs Th...</td>\n",
       "      <td>38.0</td>\n",
       "      <td>female</td>\n",
       "      <td>71.2833</td>\n",
       "      <td>0</td>\n",
       "      <td>C85</td>\n",
       "      <td>PC 17599</td>\n",
       "      <td>1</td>\n",
       "      <td>1</td>\n",
       "    </tr>\n",
       "    <tr>\n",
       "      <th>2</th>\n",
       "      <td>1</td>\n",
       "      <td>3</td>\n",
       "      <td>S</td>\n",
       "      <td>Heikkinen, Miss. Laina</td>\n",
       "      <td>26.0</td>\n",
       "      <td>female</td>\n",
       "      <td>7.9250</td>\n",
       "      <td>0</td>\n",
       "      <td>None</td>\n",
       "      <td>STON/O2. 3101282</td>\n",
       "      <td>3</td>\n",
       "      <td>0</td>\n",
       "    </tr>\n",
       "    <tr>\n",
       "      <th>3</th>\n",
       "      <td>1</td>\n",
       "      <td>4</td>\n",
       "      <td>S</td>\n",
       "      <td>Futrelle, Mrs. Jacques Heath (Lily May Peel)</td>\n",
       "      <td>35.0</td>\n",
       "      <td>female</td>\n",
       "      <td>53.1000</td>\n",
       "      <td>0</td>\n",
       "      <td>C123</td>\n",
       "      <td>113803</td>\n",
       "      <td>1</td>\n",
       "      <td>1</td>\n",
       "    </tr>\n",
       "    <tr>\n",
       "      <th>4</th>\n",
       "      <td>0</td>\n",
       "      <td>5</td>\n",
       "      <td>S</td>\n",
       "      <td>Allen, Mr. William Henry</td>\n",
       "      <td>35.0</td>\n",
       "      <td>male</td>\n",
       "      <td>8.0500</td>\n",
       "      <td>0</td>\n",
       "      <td>None</td>\n",
       "      <td>373450</td>\n",
       "      <td>3</td>\n",
       "      <td>0</td>\n",
       "    </tr>\n",
       "  </tbody>\n",
       "</table>\n",
       "</div>"
      ],
      "text/plain": [
       "   SURVIVED  PASSENGERID EMBARKED  \\\n",
       "0         0            1        S   \n",
       "1         1            2        C   \n",
       "2         1            3        S   \n",
       "3         1            4        S   \n",
       "4         0            5        S   \n",
       "\n",
       "                                                NAME   AGE     SEX     FARE  \\\n",
       "0                            Braund, Mr. Owen Harris  22.0    male   7.2500   \n",
       "1  Cumings, Mrs. John Bradley (Florence Briggs Th...  38.0  female  71.2833   \n",
       "2                             Heikkinen, Miss. Laina  26.0  female   7.9250   \n",
       "3       Futrelle, Mrs. Jacques Heath (Lily May Peel)  35.0  female  53.1000   \n",
       "4                           Allen, Mr. William Henry  35.0    male   8.0500   \n",
       "\n",
       "   PARCH CABIN            TICKET  PCLASS  SIBSP  \n",
       "0      0  None         A/5 21171       3      1  \n",
       "1      0   C85          PC 17599       1      1  \n",
       "2      0  None  STON/O2. 3101282       3      0  \n",
       "3      0  C123            113803       1      1  \n",
       "4      0  None            373450       3      0  "
      ]
     },
     "execution_count": 11,
     "metadata": {},
     "output_type": "execute_result"
    }
   ],
   "source": [
    "dataset = layer.get_dataset(\"titanic\")\n",
    "df = dataset.to_pandas()\n",
    "df.head()"
   ]
  },
  {
   "cell_type": "code",
   "execution_count": 12,
   "metadata": {},
   "outputs": [
    {
     "data": {
      "text/plain": [
       "<seaborn.axisgrid.FacetGrid at 0x14a1f5f10>"
      ]
     },
     "execution_count": 12,
     "metadata": {},
     "output_type": "execute_result"
    },
    {
     "data": {
      "image/png": "[encoded data removed]",
      "text/plain": [
       "<Figure size 432x216 with 2 Axes>"
      ]
     },
     "metadata": {
      "needs_background": "light"
     },
     "output_type": "display_data"
    }
   ],
   "source": [
    "g = sns.FacetGrid(df, col='SURVIVED')\n",
    "g.map(plt.hist, 'AGE', bins=20)"
   ]
  },
  {
   "cell_type": "markdown",
   "metadata": {},
   "source": [
    "## b. Analyze the Calculated Features\n",
    "A featureset is a group of calculated features which provide a high-level interface to access individual features. Feature sets are different from static datasets or ordinary database tables as they provide the capability to time-travel to get point-in-time values of its underlying features. We can also fetch the calculated features. For example, `passenger_features` is a group of features which passenger features calculated by Layer."
   ]
  },
  {
   "cell_type": "code",
   "execution_count": 13,
   "metadata": {},
   "outputs": [
    {
     "name": "stderr",
     "output_type": "stream",
     "text": [
      "21/08/12 12:45:24 WARN Utils: Your hostname, MacBook-Pro-3.local resolves to a loopback address: 127.0.0.1; using 192.168.1.47 instead (on interface en0)\n",
      "21/08/12 12:45:24 WARN Utils: Set SPARK_LOCAL_IP if you need to bind to another address\n",
      "WARNING: An illegal reflective access operation has occurred\n",
      "WARNING: Illegal reflective access by org.apache.spark.unsafe.Platform (file:/usr/local/lib/python3.9/site-packages/pyspark/jars/spark-unsafe_2.12-3.1.2.jar) to constructor java.nio.DirectByteBuffer(long,int)\n",
      "WARNING: Please consider reporting this to the maintainers of org.apache.spark.unsafe.Platform\n",
      "WARNING: Use --illegal-access=warn to enable warnings of further illegal reflective access operations\n",
      "WARNING: All illegal access operations will be denied in a future release\n",
      "21/08/12 12:45:25 WARN NativeCodeLoader: Unable to load native-hadoop library for your platform... using builtin-java classes where applicable\n",
      "Using Spark's default log4j profile: org/apache/spark/log4j-defaults.properties\n",
      "Setting default log level to \"WARN\".\n",
      "To adjust logging level use sc.setLogLevel(newLevel). For SparkR, use setLogLevel(newLevel).\n",
      "21/08/12 12:45:37 WARN SizeEstimator: Failed to check whether UseCompressedOops is set; assuming yes\n",
      "21/08/12 12:45:38 WARN GarbageCollectionMetrics: To enable non-built-in garbage collector(s) List(scavenge), users should configure it(them) to spark.eventLog.gcMetrics.youngGenerationGarbageCollectors or spark.eventLog.gcMetrics.oldGenerationGarbageCollectors\n",
      "21/08/12 12:45:38 WARN GarbageCollectionMetrics: To enable non-built-in garbage collector(s) List(global, scavenge), users should configure it(them) to spark.eventLog.gcMetrics.youngGenerationGarbageCollectors or spark.eventLog.gcMetrics.oldGenerationGarbageCollectors\n",
      "[Stage 0:>                                                          (0 + 1) / 1]\r"
     ]
    },
    {
     "name": "stdout",
     "output_type": "stream",
     "text": [
      "+-----------+-------+------------+--------+-------+---+--------+-----+\n",
      "|PassengerId|AgeBand|EmbarkStatus|FareBand|IsAlone|Sex|Survived|Title|\n",
      "+-----------+-------+------------+--------+-------+---+--------+-----+\n",
      "|          1|      1|           0|       0|      0|  0|       0|    1|\n",
      "|          2|      2|           1|       3|      0|  1|       1|    3|\n",
      "|          3|      1|           0|       1|      1|  1|       1|    2|\n",
      "|          4|      2|           0|       3|      0|  1|       1|    3|\n",
      "|          5|      2|           0|       1|      1|  0|       0|    1|\n",
      "|          6|      1|           2|       1|      1|  0|       0|    1|\n",
      "|          7|      3|           0|       3|      1|  0|       0|    1|\n",
      "|          8|      0|           0|       2|      0|  0|       0|    4|\n",
      "|          9|      1|           0|       1|      0|  1|       1|    3|\n",
      "|         10|      0|           1|       2|      0|  1|       1|    3|\n",
      "|         11|      0|           0|       2|      0|  1|       1|    2|\n",
      "|         12|      3|           0|       2|      1|  1|       1|    2|\n",
      "|         13|      1|           0|       1|      1|  0|       0|    1|\n",
      "|         14|      2|           0|       3|      0|  0|       0|    1|\n",
      "|         15|      0|           0|       0|      1|  1|       0|    2|\n",
      "|         16|      3|           0|       2|      1|  1|       1|    3|\n",
      "|         17|      0|           2|       2|      0|  0|       0|    4|\n",
      "|         18|      1|           0|       1|      1|  0|       1|    1|\n",
      "|         19|      1|           0|       2|      0|  1|       0|    3|\n",
      "|         20|      1|           1|       0|      1|  1|       1|    3|\n",
      "+-----------+-------+------------+--------+-------+---+--------+-----+\n",
      "only showing top 20 rows\n",
      "\n"
     ]
    },
    {
     "name": "stderr",
     "output_type": "stream",
     "text": [
      "                                                                                \r"
     ]
    }
   ],
   "source": [
    "pf = layer.get_featureset(\"passenger_features\").to_spark()\n",
    "pf.show()"
   ]
  },
  {
   "cell_type": "code",
   "execution_count": 15,
   "metadata": {},
   "outputs": [
    {
     "name": "stderr",
     "output_type": "stream",
     "text": [
      "                                                                                \r"
     ]
    },
    {
     "data": {
      "text/plain": [
       "<seaborn.axisgrid.FacetGrid at 0x14abf1e20>"
      ]
     },
     "execution_count": 15,
     "metadata": {},
     "output_type": "execute_result"
    },
    {
     "data": {
      "image/png": "[encoded data removed]",
      "text/plain": [
       "<Figure size 432x216 with 2 Axes>"
      ]
     },
     "metadata": {
      "needs_background": "light"
     },
     "output_type": "display_data"
    }
   ],
   "source": [
    "pdf = pf.toPandas()\n",
    "g = sns.FacetGrid(pdf, col='Survived')\n",
    "g.map(plt.hist, 'AgeBand')"
   ]
  },
  {
   "cell_type": "markdown",
   "metadata": {},
   "source": [
    "## 3. Explore the models\n",
    "Layer Discover > Models tab provides a centralized, managed, indexed storage space for ML Models. It ensures that model artifacts are versioned and immutable. This allows data teams to manage and monitor the lifecycle of the ML Models at scale. The models we have trained within the Titanic Project is registered into the Layer Models tab. Now let's fetch the survival_model model and do some predictions."
   ]
  },
  {
   "cell_type": "code",
   "execution_count": 38,
   "metadata": {},
   "outputs": [
    {
     "name": "stdout",
     "output_type": "stream",
     "text": [
      "{'test_size': '0.25', 'n_estimators': '50'}\n",
      "{'accuracy': [(1628764431121, 0.7623318385650224)]}\n"
     ]
    }
   ],
   "source": [
    "model = layer.get_model(\"survival_model\")\n",
    "print(model.parameters)\n",
    "print(model.metrics)"
   ]
  },
  {
   "cell_type": "markdown",
   "metadata": {},
   "source": [
    "## Make a prediction!\n",
    "By fetching the trained ML model, we can make an adhoc prediction"
   ]
  },
  {
   "cell_type": "code",
   "execution_count": 27,
   "metadata": {},
   "outputs": [
    {
     "data": {
      "text/plain": [
       "RandomForestClassifier(n_estimators=50)"
      ]
     },
     "execution_count": 27,
     "metadata": {},
     "output_type": "execute_result"
    }
   ],
   "source": [
    "trained_classifier = model.get_train()\n",
    "trained_classifier"
   ]
  },
  {
   "cell_type": "code",
   "execution_count": 37,
   "metadata": {},
   "outputs": [
    {
     "data": {
      "text/plain": [
       "array([0])"
      ]
     },
     "execution_count": 37,
     "metadata": {},
     "output_type": "execute_result"
    }
   ],
   "source": [
    "trained_classifier.predict([[2,2,1,2,1,0]])"
   ]
  },
  {
   "cell_type": "code",
   "execution_count": 36,
   "metadata": {},
   "outputs": [
    {
     "name": "stdout",
     "output_type": "stream",
     "text": [
      "[0]"
     ]
    }
   ],
   "source": [
    "!curl --header \"Content-Type: application/json; format=pandas-records\" \\\n",
    "  --request POST \\\n",
    "  --data '[[2,2,1,2,1,0]]' \\\n",
    "  https://3ebe215f-2bd4-40f6-adf5-0c3839882bbf.inferences.development.layer.co/invocations"
   ]
  }
 ],
 "metadata": {
  "kernelspec": {
   "display_name": "Python 3 (ipykernel)",
   "language": "python",
   "name": "python3"
  },
  "language_info": {
   "codemirror_mode": {
    "name": "ipython",
    "version": 3
   },
   "file_extension": ".py",
   "mimetype": "text/x-python",
   "name": "python",
   "nbconvert_exporter": "python",
   "pygments_lexer": "ipython3",
   "version": "3.9.4"
  }
 },
 "nbformat": 4,
 "nbformat_minor": 4
}
