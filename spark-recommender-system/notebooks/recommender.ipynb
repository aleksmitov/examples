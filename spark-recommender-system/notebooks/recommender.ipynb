{
  "nbformat": 4,
  "nbformat_minor": 5,
  "metadata": {
    "kernelspec": {
      "display_name": "Python 3 (ipykernel)",
      "language": "python",
      "name": "python3"
    },
    "language_info": {
      "codemirror_mode": {
        "name": "ipython",
        "version": 3
      },
      "file_extension": ".py",
      "mimetype": "text/x-python",
      "name": "python",
      "nbconvert_exporter": "python",
      "pygments_lexer": "ipython3",
      "version": "3.8.10"
    },
    "colab": {
      "name": "recommender.ipynb",
      "provenance": [],
      "collapsed_sections": []
    }
  },
  "cells": [
    {
      "cell_type": "code",
      "metadata": {
        "id": "8og1RKiVv-Eq"
      },
      "source": [
        "pip install findspark -qqq"
      ],
      "id": "8og1RKiVv-Eq",
      "execution_count": 1,
      "outputs": []
    },
    {
      "cell_type": "code",
      "metadata": {
        "id": "O7ETuLUExBLP"
      },
      "source": [
        "# install Apache Spark on Google Colab\n",
        "!apt-get install openjdk-8-jdk-headless -qq > /dev/null \n",
        "!wget -q https://archive.apache.org/dist/spark/spark-3.2.0/spark-3.2.0-bin-hadoop3.2.tgz"
      ],
      "id": "O7ETuLUExBLP",
      "execution_count": 2,
      "outputs": []
    },
    {
      "cell_type": "code",
      "metadata": {
        "id": "cUVOUf0lxHLk"
      },
      "source": [
        "!tar xzf spark-3.2.0-bin-hadoop3.2.tgz\n"
      ],
      "id": "cUVOUf0lxHLk",
      "execution_count": 3,
      "outputs": []
    },
    {
      "cell_type": "code",
      "metadata": {
        "id": "Og-kosCGxHG3"
      },
      "source": [
        "import os \n",
        "os.environ[\"JAVA_HOME\"] = \"/usr/lib/jvm/java-8-openjdk-amd64\" \n",
        "os.environ[\"SPARK_HOME\"] = \"/content/spark-3.2.0-bin-hadoop3.2\"\n",
        "import findspark \n",
        "findspark.init()\n",
        "from pyspark.sql import SparkSession\n",
        "from pyspark.ml.evaluation import RegressionEvaluator\n",
        "from pyspark.ml.recommendation import ALS"
      ],
      "id": "Og-kosCGxHG3",
      "execution_count": 4,
      "outputs": []
    },
    {
      "cell_type": "code",
      "metadata": {
        "id": "fbd3f434-6d2c-40a4-bf60-b450a9b164f6"
      },
      "source": [
        "spark = SparkSession.builder.appName('recommendation').getOrCreate()"
      ],
      "id": "fbd3f434-6d2c-40a4-bf60-b450a9b164f6",
      "execution_count": 5,
      "outputs": []
    },
    {
      "cell_type": "code",
      "metadata": {
        "colab": {
          "base_uri": "https://localhost:8080/"
        },
        "id": "c3g7WzMszD3k",
        "outputId": "90984dd1-54e1-4093-a2a7-888300218e8a"
      },
      "source": [
        "!wget --no-check-certificate \\\n",
        "    https://namespace.co.ke/ml/rating.csv \\\n",
        "    -O /tmp/rating.csv\n"
      ],
      "id": "c3g7WzMszD3k",
      "execution_count": 6,
      "outputs": [
        {
          "output_type": "stream",
          "name": "stdout",
          "text": [
            "--2021-12-02 05:41:52--  https://namespace.co.ke/ml/rating.csv\n",
            "Resolving namespace.co.ke (namespace.co.ke)... 109.106.250.14\n",
            "Connecting to namespace.co.ke (namespace.co.ke)|109.106.250.14|:443... connected.\n",
            "HTTP request sent, awaiting response... 200 OK\n",
            "Length: 690353377 (658M) [text/csv]\n",
            "Saving to: ‘/tmp/rating.csv’\n",
            "\n",
            "/tmp/rating.csv     100%[===================>] 658.37M  25.1MB/s    in 26s     \n",
            "\n",
            "2021-12-02 05:42:19 (25.1 MB/s) - ‘/tmp/rating.csv’ saved [690353377/690353377]\n",
            "\n"
          ]
        }
      ]
    },
    {
      "cell_type": "code",
      "metadata": {
        "id": "dae314a8-801e-45c4-84ce-0360c190aa9c"
      },
      "source": [
        "data = spark.read.csv('/tmp/rating.csv',inferSchema=True,header=True)"
      ],
      "id": "dae314a8-801e-45c4-84ce-0360c190aa9c",
      "execution_count": 7,
      "outputs": []
    },
    {
      "cell_type": "code",
      "metadata": {
        "id": "LwoDrGSc3ech"
      },
      "source": [
        "data = data.dropna()"
      ],
      "id": "LwoDrGSc3ech",
      "execution_count": 8,
      "outputs": []
    },
    {
      "cell_type": "code",
      "metadata": {
        "colab": {
          "base_uri": "https://localhost:8080/"
        },
        "id": "313d85d1-38d6-4b36-8243-c328d62c929d",
        "outputId": "d5e3c78a-b831-4700-f500-c01f9bf39441"
      },
      "source": [
        "data.describe().show()"
      ],
      "id": "313d85d1-38d6-4b36-8243-c328d62c929d",
      "execution_count": 9,
      "outputs": [
        {
          "output_type": "stream",
          "name": "stdout",
          "text": [
            "+-------+-----------------+------------------+------------------+-------------------+\n",
            "|summary|           userId|           movieId|            rating|          timestamp|\n",
            "+-------+-----------------+------------------+------------------+-------------------+\n",
            "|  count|         20000263|          20000263|          20000263|           20000263|\n",
            "|   mean|69045.87258292554| 9041.567330339605|3.5255285642993797|               null|\n",
            "| stddev|40038.62665316267|19789.477445413264| 1.051988919294229|               null|\n",
            "|    min|                1|                 1|               0.5|1995-01-09 11:46:44|\n",
            "|    max|           138493|            131262|               5.0|2015-03-31 06:40:02|\n",
            "+-------+-----------------+------------------+------------------+-------------------+\n",
            "\n"
          ]
        }
      ]
    },
    {
      "cell_type": "code",
      "metadata": {
        "id": "4efd3d08-ba08-48be-a64d-1c0776bf52be"
      },
      "source": [
        "data = data.drop(\"timestamp\")"
      ],
      "id": "4efd3d08-ba08-48be-a64d-1c0776bf52be",
      "execution_count": 10,
      "outputs": []
    },
    {
      "cell_type": "code",
      "metadata": {
        "id": "e224a53e-f206-4178-97d6-62d0204bf3f0"
      },
      "source": [
        "# Split the data into a training and testing set\n",
        "training_size = 0.8\n",
        "random_state = 0\n",
        "test_size = 0.2\n",
        "training, testing = data.randomSplit([training_size, test_size], seed=random_state)"
      ],
      "id": "e224a53e-f206-4178-97d6-62d0204bf3f0",
      "execution_count": 11,
      "outputs": []
    },
    {
      "cell_type": "code",
      "metadata": {
        "id": "cda57abe-6088-447e-8724-f39a767041e7"
      },
      "source": [
        "# Recommendation model using ALS on the training data\n",
        "als = ALS(maxIter=5, regParam=0.01, userCol=\"userId\", itemCol=\"movieId\", ratingCol=\"rating\", coldStartStrategy=\"drop\")\n",
        "model = als.fit(training)"
      ],
      "id": "cda57abe-6088-447e-8724-f39a767041e7",
      "execution_count": 12,
      "outputs": []
    },
    {
      "cell_type": "code",
      "metadata": {
        "id": "c01d94b2-7321-4f06-9179-20922ab5758f"
      },
      "source": [
        "# Evaluate the model by computing the RMSE on the test data\n",
        "predictions = model.transform(testing)"
      ],
      "id": "c01d94b2-7321-4f06-9179-20922ab5758f",
      "execution_count": 13,
      "outputs": []
    },
    {
      "cell_type": "code",
      "metadata": {
        "colab": {
          "base_uri": "https://localhost:8080/"
        },
        "id": "43a84687-b92c-4c53-adf4-ef710c7d34f1",
        "outputId": "cac31df4-ca4b-4f50-8fe2-80af219e93e9"
      },
      "source": [
        "predictions.show()"
      ],
      "id": "43a84687-b92c-4c53-adf4-ef710c7d34f1",
      "execution_count": 14,
      "outputs": [
        {
          "output_type": "stream",
          "name": "stdout",
          "text": [
            "+------+-------+------+----------+\n",
            "|userId|movieId|rating|prediction|\n",
            "+------+-------+------+----------+\n",
            "|     1|    924|   3.5| 3.3500874|\n",
            "|     1|   1009|   3.5| 3.2816954|\n",
            "|     1|   1136|   3.5| 3.8564465|\n",
            "|     1|   1193|   3.5|   3.50422|\n",
            "|     1|   1196|   4.5|  3.891396|\n",
            "|     1|   1215|   4.0| 3.8538246|\n",
            "|     1|   1217|   3.5|    3.5861|\n",
            "|     1|   1222|   3.5| 3.4862847|\n",
            "|     1|   1278|   4.0| 3.5762112|\n",
            "|     1|   1333|   4.0| 3.3784351|\n",
            "|     1|   1525|   3.0| 3.0203524|\n",
            "|     1|   1584|   3.5| 3.6740332|\n",
            "|     1|   1750|   3.5| 2.5577292|\n",
            "|     1|   1967|   4.0|  3.989893|\n",
            "|     1|   2140|   4.0| 3.7100496|\n",
            "|     1|   2174|   4.0| 3.7961955|\n",
            "|     1|   2692|   3.5| 3.7352972|\n",
            "|     1|   2761|   3.0| 3.7934666|\n",
            "|     1|   2762|   4.0| 3.8256044|\n",
            "|     1|   3037|   3.5| 3.7623856|\n",
            "+------+-------+------+----------+\n",
            "only showing top 20 rows\n",
            "\n"
          ]
        }
      ]
    },
    {
      "cell_type": "code",
      "metadata": {
        "colab": {
          "base_uri": "https://localhost:8080/"
        },
        "id": "b0092e7f-4b1b-4a3b-8d7a-b684ccb0d096",
        "outputId": "490381c0-b810-433d-a1f9-a760f9e22b88"
      },
      "source": [
        "evaluator = RegressionEvaluator(metricName=\"rmse\", labelCol=\"rating\",predictionCol=\"prediction\")\n",
        "rmse = evaluator.evaluate(predictions)\n",
        "print(f\"Root mean square error {rmse}\")"
      ],
      "id": "b0092e7f-4b1b-4a3b-8d7a-b684ccb0d096",
      "execution_count": 15,
      "outputs": [
        {
          "output_type": "stream",
          "name": "stdout",
          "text": [
            "Root mean square error 0.8129117387821271\n"
          ]
        }
      ]
    },
    {
      "cell_type": "code",
      "metadata": {
        "colab": {
          "base_uri": "https://localhost:8080/"
        },
        "id": "lun_RCCs6SlH",
        "outputId": "e34e90c6-c8b8-4280-890c-d3b84b6ec0f9"
      },
      "source": [
        "# Generate top 10 movie recommendations for each user\n",
        "userRecs = model.recommendForAllUsers(10)\n",
        "# Generate top 10 user recommendations for each movie\n",
        "movieRecs = model.recommendForAllItems(10)"
      ],
      "id": "lun_RCCs6SlH",
      "execution_count": 16,
      "outputs": [
        {
          "output_type": "stream",
          "name": "stderr",
          "text": [
            "/content/spark-3.2.0-bin-hadoop3.2/python/pyspark/sql/context.py:127: FutureWarning: Deprecated in 3.0.0. Use SparkSession.builder.getOrCreate() instead.\n",
            "  FutureWarning\n"
          ]
        }
      ]
    },
    {
      "cell_type": "code",
      "metadata": {
        "colab": {
          "base_uri": "https://localhost:8080/"
        },
        "id": "F3AWyTLT7I5c",
        "outputId": "19a5a9ff-21df-481f-f4ef-9e92fb11ad22"
      },
      "source": [
        "userRecs.show()"
      ],
      "id": "F3AWyTLT7I5c",
      "execution_count": 17,
      "outputs": [
        {
          "output_type": "stream",
          "name": "stdout",
          "text": [
            "+------+--------------------+\n",
            "|userId|     recommendations|\n",
            "+------+--------------------+\n",
            "|     1|[{96255, 9.363403...|\n",
            "|     3|[{96255, 10.23001...|\n",
            "|     5|[{96255, 18.40707...|\n",
            "|     6|[{96255, 21.61186...|\n",
            "|    12|[{96255, 13.90436...|\n",
            "|    13|[{71017, 14.02533...|\n",
            "|    15|[{96255, 12.99082...|\n",
            "|    16|[{72292, 12.74122...|\n",
            "|    19|[{96255, 14.84307...|\n",
            "|    20|[{120813, 11.1303...|\n",
            "|    22|[{96255, 11.96911...|\n",
            "|    26|[{96255, 14.26548...|\n",
            "|    27|[{109953, 10.966}...|\n",
            "|    28|[{73533, 13.54639...|\n",
            "|    31|[{80825, 15.15677...|\n",
            "|    34|[{96255, 17.17280...|\n",
            "|    37|[{96255, 19.09056...|\n",
            "|    40|[{98126, 10.91677...|\n",
            "|    41|[{96255, 10.15501...|\n",
            "|    43|[{96009, 10.73423...|\n",
            "+------+--------------------+\n",
            "only showing top 20 rows\n",
            "\n"
          ]
        }
      ]
    },
    {
      "cell_type": "code",
      "metadata": {
        "colab": {
          "base_uri": "https://localhost:8080/"
        },
        "id": "vmk9Mm8J7I80",
        "outputId": "f73229cf-a914-4535-a8fe-c41a2fc86a45"
      },
      "source": [
        "movieRecs.show()"
      ],
      "id": "vmk9Mm8J7I80",
      "execution_count": 18,
      "outputs": [
        {
          "output_type": "stream",
          "name": "stdout",
          "text": [
            "+-------+--------------------+\n",
            "|movieId|     recommendations|\n",
            "+-------+--------------------+\n",
            "|      1|[{98128, 7.062815...|\n",
            "|      3|[{4727, 5.437759}...|\n",
            "|      5|[{89129, 5.560975...|\n",
            "|      6|[{72857, 6.373149...|\n",
            "|      9|[{35000, 5.352175...|\n",
            "|     12|[{103796, 6.57376...|\n",
            "|     13|[{40450, 5.646654...|\n",
            "|     15|[{21640, 6.509919...|\n",
            "|     16|[{88994, 6.386674...|\n",
            "|     17|[{84912, 6.588704...|\n",
            "|     19|[{107804, 7.64825...|\n",
            "|     20|[{65918, 5.607259...|\n",
            "|     22|[{25200, 5.810437...|\n",
            "|     26|[{133404, 5.72753...|\n",
            "|     27|[{98642, 6.497676...|\n",
            "|     28|[{101476, 6.41470...|\n",
            "|     31|[{103795, 5.70314...|\n",
            "|     34|[{73969, 8.814581...|\n",
            "|     35|[{33314, 8.430344...|\n",
            "|     37|[{71023, 9.008652...|\n",
            "+-------+--------------------+\n",
            "only showing top 20 rows\n",
            "\n"
          ]
        }
      ]
    },
    {
      "cell_type": "code",
      "metadata": {
        "id": "230c43f1-137e-4f00-affc-e300bb723dc5"
      },
      "source": [
        "test_user = testing.filter(testing['userId']==23).select(['movieId','userId'])"
      ],
      "id": "230c43f1-137e-4f00-affc-e300bb723dc5",
      "execution_count": 19,
      "outputs": []
    },
    {
      "cell_type": "code",
      "metadata": {
        "colab": {
          "base_uri": "https://localhost:8080/"
        },
        "id": "cfa553db-3ebb-44cb-a91f-0e26af47ce78",
        "outputId": "92fa5b75-ad73-46c3-e849-4a59e62baf38"
      },
      "source": [
        "test_user.show()"
      ],
      "id": "cfa553db-3ebb-44cb-a91f-0e26af47ce78",
      "execution_count": 20,
      "outputs": [
        {
          "output_type": "stream",
          "name": "stdout",
          "text": [
            "+-------+------+\n",
            "|movieId|userId|\n",
            "+-------+------+\n",
            "|      1|    23|\n",
            "|    293|    23|\n",
            "|    318|    23|\n",
            "|    356|    23|\n",
            "|    493|    23|\n",
            "|   1094|    23|\n",
            "|   1095|    23|\n",
            "|   1527|    23|\n",
            "|   1584|    23|\n",
            "|   1639|    23|\n",
            "|   1729|    23|\n",
            "|   1835|    23|\n",
            "|   2167|    23|\n",
            "|   2278|    23|\n",
            "|   2294|    23|\n",
            "|   2315|    23|\n",
            "|   2324|    23|\n",
            "|   2353|    23|\n",
            "|   2424|    23|\n",
            "+-------+------+\n",
            "\n"
          ]
        }
      ]
    },
    {
      "cell_type": "code",
      "metadata": {
        "id": "eace7e65-1516-492b-9cd8-b6ebdd670223"
      },
      "source": [
        "recommendation = model.transform(test_user)"
      ],
      "id": "eace7e65-1516-492b-9cd8-b6ebdd670223",
      "execution_count": 21,
      "outputs": []
    },
    {
      "cell_type": "code",
      "metadata": {
        "colab": {
          "base_uri": "https://localhost:8080/"
        },
        "id": "843f7151-b7ec-4dc8-b5f3-454567bc911a",
        "outputId": "c7c6479e-dc7b-4795-cf2b-faec259bd2ad"
      },
      "source": [
        "recommendation.orderBy('prediction',ascending=False).show()"
      ],
      "id": "843f7151-b7ec-4dc8-b5f3-454567bc911a",
      "execution_count": 22,
      "outputs": [
        {
          "output_type": "stream",
          "name": "stdout",
          "text": [
            "+-------+------+----------+\n",
            "|movieId|userId|prediction|\n",
            "+-------+------+----------+\n",
            "|   2324|    23| 4.9912987|\n",
            "|    318|    23|  4.917674|\n",
            "|   1639|    23|  4.885573|\n",
            "|    293|    23|  4.752557|\n",
            "|   2278|    23|  4.396638|\n",
            "|   2353|    23| 4.3250475|\n",
            "|    356|    23| 4.2895617|\n",
            "|   1584|    23| 4.2772045|\n",
            "|   1527|    23| 4.1323924|\n",
            "|   1094|    23| 4.1077952|\n",
            "|   1095|    23| 3.8918378|\n",
            "|   1729|    23|  3.744111|\n",
            "|   2167|    23| 3.6783814|\n",
            "|    493|    23| 3.5285435|\n",
            "|   1835|    23| 3.5197358|\n",
            "|   2294|    23| 3.4749477|\n",
            "|   2424|    23| 3.4253647|\n",
            "|      1|    23| 3.3861141|\n",
            "|   2315|    23| 1.0421133|\n",
            "+-------+------+----------+\n",
            "\n"
          ]
        }
      ]
    },
    {
      "cell_type": "code",
      "metadata": {
        "id": "KEdwmsu8ohfa"
      },
      "source": [
        ""
      ],
      "id": "KEdwmsu8ohfa",
      "execution_count": null,
      "outputs": []
    }
  ]
}