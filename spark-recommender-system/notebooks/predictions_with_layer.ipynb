{
  "nbformat": 4,
  "nbformat_minor": 0,
  "metadata": {
    "colab": {
      "name": "spark_recommender_system.ipynb",
      "provenance": [],
      "collapsed_sections": []
    },
    "kernelspec": {
      "display_name": "Python 3 (ipykernel)",
      "language": "python",
      "name": "python3"
    },
    "language_info": {
      "codemirror_mode": {
        "name": "ipython",
        "version": 3
      },
      "file_extension": ".py",
      "mimetype": "text/x-python",
      "name": "python",
      "nbconvert_exporter": "python",
      "pygments_lexer": "ipython3",
      "version": "3.8.10"
    }
  },
  "cells": [
    {
      "cell_type": "code",
      "metadata": {
        "colab": {
          "base_uri": "https://localhost:8080/"
        },
        "id": "f5ZXQXqMpAyi",
        "outputId": "c0745509-85ea-4d6b-cee1-6af5837b32a9"
      },
      "source": [
        "!pip install layer-sdk -qqq"
      ],
      "execution_count": 1,
      "outputs": [
        {
          "output_type": "stream",
          "name": "stdout",
          "text": [
            "\u001b[K     |████████████████████████████████| 27.6 MB 62.7 MB/s \n",
            "\u001b[K     |████████████████████████████████| 1.3 MB 36.2 MB/s \n",
            "\u001b[K     |████████████████████████████████| 212 kB 59.9 MB/s \n",
            "\u001b[K     |████████████████████████████████| 40 kB 5.5 MB/s \n",
            "\u001b[K     |████████████████████████████████| 2.4 MB 59.6 MB/s \n",
            "\u001b[K     |████████████████████████████████| 56 kB 4.4 MB/s \n",
            "\u001b[K     |████████████████████████████████| 15.5 MB 50.0 MB/s \n",
            "\u001b[K     |████████████████████████████████| 596 kB 64.1 MB/s \n",
            "\u001b[K     |████████████████████████████████| 271 kB 86.9 MB/s \n",
            "\u001b[K     |████████████████████████████████| 97 kB 7.9 MB/s \n",
            "\u001b[K     |████████████████████████████████| 159 kB 82.7 MB/s \n",
            "\u001b[K     |████████████████████████████████| 256 kB 52.6 MB/s \n",
            "\u001b[K     |████████████████████████████████| 3.6 MB 71.6 MB/s \n",
            "\u001b[K     |████████████████████████████████| 25.6 MB 1.4 MB/s \n",
            "\u001b[K     |████████████████████████████████| 3.1 MB 77.7 MB/s \n",
            "\u001b[K     |████████████████████████████████| 212.4 MB 71 kB/s \n",
            "\u001b[K     |████████████████████████████████| 374 kB 71.5 MB/s \n",
            "\u001b[K     |████████████████████████████████| 131 kB 52.7 MB/s \n",
            "\u001b[K     |████████████████████████████████| 98 kB 9.6 MB/s \n",
            "\u001b[K     |████████████████████████████████| 63 kB 1.8 MB/s \n",
            "\u001b[K     |████████████████████████████████| 198 kB 68.5 MB/s \n",
            "\u001b[K     |████████████████████████████████| 1.1 MB 68.3 MB/s \n",
            "\u001b[K     |████████████████████████████████| 160 kB 61.7 MB/s \n",
            "\u001b[K     |████████████████████████████████| 192 kB 70.4 MB/s \n",
            "\u001b[K     |████████████████████████████████| 1.3 MB 58.6 MB/s \n",
            "\u001b[K     |████████████████████████████████| 1.3 MB 58.9 MB/s \n",
            "\u001b[K     |████████████████████████████████| 1.1 MB 62.8 MB/s \n",
            "\u001b[K     |████████████████████████████████| 929 kB 59.9 MB/s \n",
            "\u001b[K     |████████████████████████████████| 263 kB 64.2 MB/s \n",
            "\u001b[K     |████████████████████████████████| 8.4 MB 57.6 MB/s \n",
            "\u001b[K     |████████████████████████████████| 79 kB 8.3 MB/s \n",
            "\u001b[K     |████████████████████████████████| 138 kB 69.3 MB/s \n",
            "\u001b[K     |████████████████████████████████| 58 kB 6.2 MB/s \n",
            "\u001b[K     |████████████████████████████████| 1.1 MB 57.0 MB/s \n",
            "\u001b[K     |████████████████████████████████| 146 kB 61.0 MB/s \n",
            "\u001b[K     |████████████████████████████████| 79 kB 8.7 MB/s \n",
            "\u001b[K     |████████████████████████████████| 75 kB 4.6 MB/s \n",
            "\u001b[K     |████████████████████████████████| 52 kB 1.4 MB/s \n",
            "\u001b[K     |████████████████████████████████| 127 kB 67.7 MB/s \n",
            "\u001b[K     |████████████████████████████████| 51 kB 7.3 MB/s \n",
            "\u001b[K     |████████████████████████████████| 291 kB 67.1 MB/s \n",
            "\u001b[K     |████████████████████████████████| 95 kB 4.5 MB/s \n",
            "\u001b[K     |████████████████████████████████| 133 kB 70.3 MB/s \n",
            "\u001b[K     |████████████████████████████████| 288 kB 62.5 MB/s \n",
            "\u001b[K     |████████████████████████████████| 3.3 MB 63.8 MB/s \n",
            "\u001b[K     |████████████████████████████████| 61 kB 505 kB/s \n",
            "\u001b[K     |████████████████████████████████| 895 kB 68.4 MB/s \n",
            "\u001b[?25h  Building wheel for pyspark (setup.py) ... \u001b[?25l\u001b[?25hdone\n",
            "  Building wheel for validate-email (setup.py) ... \u001b[?25l\u001b[?25hdone\n",
            "  Building wheel for alembic (setup.py) ... \u001b[?25l\u001b[?25hdone\n",
            "  Building wheel for databricks-cli (setup.py) ... \u001b[?25l\u001b[?25hdone\n",
            "  Building wheel for polling (setup.py) ... \u001b[?25l\u001b[?25hdone\n",
            "\u001b[31mERROR: pip's dependency resolver does not currently take into account all the packages that are installed. This behaviour is the source of the following dependency conflicts.\n",
            "nbclient 0.5.9 requires jupyter-client>=6.1.5, but you have jupyter-client 5.3.5 which is incompatible.\n",
            "jupyter-console 5.2.0 requires prompt-toolkit<2.0.0,>=1.0.0, but you have prompt-toolkit 3.0.23 which is incompatible.\n",
            "ipython 5.5.0 requires prompt-toolkit<2.0.0,>=1.0.4, but you have prompt-toolkit 3.0.23 which is incompatible.\n",
            "datascience 0.10.6 requires folium==0.2.1, but you have folium 0.8.3 which is incompatible.\u001b[0m\n"
          ]
        }
      ]
    },
    {
      "cell_type": "code",
      "metadata": {
        "colab": {
          "base_uri": "https://localhost:8080/"
        },
        "id": "ifeVPyJKpGC9",
        "outputId": "688f65f5-9701-4d13-b7e9-9d944d15b74e"
      },
      "source": [
        "import layer\n",
        "layer.login()"
      ],
      "execution_count": 2,
      "outputs": [
        {
          "output_type": "stream",
          "name": "stdout",
          "text": [
            "Please open the following link in your web browser. Once logged in, copy the code and paste it here.\n",
            "https://auth.beta.layer.co/authorize?response_type=code&code_challenge=8xZnuC2ssMveE_BKwRmMVQyULmww3JUCzqX0Tnl9-Wk&code_challenge_method=S256&client_id=tvp1Wo8acTt4z46c7MbUB3Rg5MqfmqkN&redirect_uri=https://beta.layer.co/oauth/code&scope=offline_access&audience=https://beta.layer.co\n",
            "Code: -XFDSaUX-ZCpXDJx\n",
            "Successfully logged into https://beta.layer.co\n"
          ]
        }
      ]
    },
    {
      "cell_type": "code",
      "metadata": {
        "colab": {
          "base_uri": "https://localhost:8080/"
        },
        "id": "8g6516IOpK-Z",
        "outputId": "f749581a-bace-4aa9-83d1-29825ba33b1a"
      },
      "source": [
        "data = layer.get_dataset(\"movie_ratings\").to_spark()\n",
        "data.show()"
      ],
      "execution_count": 3,
      "outputs": [
        {
          "output_type": "stream",
          "name": "stdout",
          "text": [
            "+------+-------+------+-------------------+\n",
            "|USERID|MOVIEID|RATING|          TIMESTAMP|\n",
            "+------+-------+------+-------------------+\n",
            "| 35001|   3074|   4.0|2001-06-30 04:10:07|\n",
            "| 35001|   3081|   3.0|2001-06-30 04:31:03|\n",
            "| 35001|   3175|   3.0|2001-06-30 04:52:59|\n",
            "| 35001|   3176|   2.0|2001-06-30 04:39:47|\n",
            "| 35001|   3196|   3.0|2001-06-30 05:03:37|\n",
            "| 35001|   3262|   2.0|2001-06-30 04:41:23|\n",
            "| 35001|   3354|   2.0|2001-06-30 05:01:15|\n",
            "| 35001|   3364|   2.0|2001-06-30 04:14:13|\n",
            "| 35001|   3365|   4.0|2001-06-30 04:08:54|\n",
            "| 35001|   3386|   3.0|2001-06-30 04:39:47|\n",
            "| 35001|   3435|   4.0|2001-06-30 04:13:21|\n",
            "| 35001|   3467|   3.0|2001-06-30 04:08:54|\n",
            "| 35001|   3471|   3.0|2001-06-30 04:52:59|\n",
            "| 35001|   3476|   4.0|2001-06-30 04:28:25|\n",
            "| 35001|   3508|   3.0|2001-06-30 04:10:07|\n",
            "| 35001|   3527|   4.0|2001-06-30 04:55:41|\n",
            "| 35001|   3535|   3.0|2001-06-30 04:31:54|\n",
            "| 35001|   3545|   5.0|2001-06-30 04:33:49|\n",
            "| 35001|   3576|   5.0|2001-06-30 04:31:03|\n",
            "| 35001|   3671|   2.0|2001-06-30 04:10:07|\n",
            "+------+-------+------+-------------------+\n",
            "only showing top 20 rows\n",
            "\n"
          ]
        }
      ]
    },
    {
      "cell_type": "code",
      "metadata": {
        "id": "Fi6g9kBGpM2-"
      },
      "source": [
        "# Split the data into a training and testing set\n",
        "training_size = 0.8\n",
        "random_state = 0\n",
        "test_size = 0.2\n",
        "training, testing = data.randomSplit([training_size, test_size], seed=random_state)"
      ],
      "execution_count": 4,
      "outputs": []
    },
    {
      "cell_type": "code",
      "metadata": {
        "id": "M1BW0sA-pOuh"
      },
      "source": [
        "test_user = testing.filter(testing['USERID']==23).select(['MOVIEID','USERID'])"
      ],
      "execution_count": 5,
      "outputs": []
    },
    {
      "cell_type": "code",
      "metadata": {
        "id": "N-nFMPIkpQgk"
      },
      "source": [
        "spark_recommender_system = layer.get_model(\"spark_recommender_system\")"
      ],
      "execution_count": 6,
      "outputs": []
    },
    {
      "cell_type": "code",
      "metadata": {
        "colab": {
          "base_uri": "https://localhost:8080/"
        },
        "id": "wE0NYYyppQjJ",
        "outputId": "86261fe8-267c-4ea0-933f-62f5b474a000"
      },
      "source": [
        "print(spark_recommender_system.parameters)\n",
        "print(spark_recommender_system.metrics)"
      ],
      "execution_count": 7,
      "outputs": [
        {
          "output_type": "stream",
          "name": "stdout",
          "text": [
            "{'training_size': '0.7', 'test_size': '0.3', 'coldStartStrategy': 'drop', 'maxIter': '5', 'ratingCol': 'RATING', 'regParam': '0.01', 'random_state': '0', 'userCol': 'USERID', 'itemCol': 'MOVIEID'}\n",
            "{'RMSE': [(1638426879434, 0.8191235838006905)]}\n"
          ]
        }
      ]
    },
    {
      "cell_type": "code",
      "metadata": {
        "id": "DQPLpYOMpYpp"
      },
      "source": [
        "spark_recommender = spark_recommender_system.get_train()"
      ],
      "execution_count": 8,
      "outputs": []
    },
    {
      "cell_type": "code",
      "metadata": {
        "id": "37zmDHT4pYsQ"
      },
      "source": [
        "test_user_recommendations = spark_recommender.transform(test_user)\n"
      ],
      "execution_count": 9,
      "outputs": []
    },
    {
      "cell_type": "code",
      "metadata": {
        "colab": {
          "base_uri": "https://localhost:8080/"
        },
        "id": "8UvVPi-qphLy",
        "outputId": "64d66f98-62ac-4e07-debc-0ece7f13ef31"
      },
      "source": [
        "test_user_recommendations.orderBy('prediction',ascending=False).show(5)"
      ],
      "execution_count": 10,
      "outputs": [
        {
          "output_type": "stream",
          "name": "stdout",
          "text": [
            "+-------+------+----------+\n",
            "|MOVIEID|USERID|prediction|\n",
            "+-------+------+----------+\n",
            "|    293|    23|   4.84422|\n",
            "|    318|    23| 4.7918367|\n",
            "|   2324|    23| 4.4672356|\n",
            "|   2278|    23|  4.381276|\n",
            "|   1527|    23|   4.37734|\n",
            "+-------+------+----------+\n",
            "only showing top 5 rows\n",
            "\n"
          ]
        }
      ]
    },
    {
      "cell_type": "code",
      "metadata": {
        "id": "4iq-V6CApyOk",
        "colab": {
          "base_uri": "https://localhost:8080/"
        },
        "outputId": "87b7de9f-cd1f-4aba-9f85-21c0b92da3b0"
      },
      "source": [
        "movies = layer.get_dataset(\"movie\").to_spark()\n",
        "movies.show()"
      ],
      "execution_count": 11,
      "outputs": [
        {
          "output_type": "stream",
          "name": "stdout",
          "text": [
            "+-------+--------------------+--------------------+\n",
            "|MOVIEID|               TITLE|              GENRES|\n",
            "+-------+--------------------+--------------------+\n",
            "|      1|    Toy Story (1995)|Adventure|Animati...|\n",
            "|      2|      Jumanji (1995)|Adventure|Childre...|\n",
            "|      3|Grumpier Old Men ...|      Comedy|Romance|\n",
            "|      4|Waiting to Exhale...|Comedy|Drama|Romance|\n",
            "|      5|Father of the Bri...|              Comedy|\n",
            "|      6|         Heat (1995)|Action|Crime|Thri...|\n",
            "|      7|      Sabrina (1995)|      Comedy|Romance|\n",
            "|      8| Tom and Huck (1995)|  Adventure|Children|\n",
            "|      9| Sudden Death (1995)|              Action|\n",
            "|     10|    GoldenEye (1995)|Action|Adventure|...|\n",
            "|     11|American Presiden...|Comedy|Drama|Romance|\n",
            "|     12|Dracula: Dead and...|       Comedy|Horror|\n",
            "|     13|        Balto (1995)|Adventure|Animati...|\n",
            "|     14|        Nixon (1995)|               Drama|\n",
            "|     15|Cutthroat Island ...|Action|Adventure|...|\n",
            "|     16|       Casino (1995)|         Crime|Drama|\n",
            "|     17|Sense and Sensibi...|       Drama|Romance|\n",
            "|     18|   Four Rooms (1995)|              Comedy|\n",
            "|     19|Ace Ventura: When...|              Comedy|\n",
            "|     20|  Money Train (1995)|Action|Comedy|Cri...|\n",
            "+-------+--------------------+--------------------+\n",
            "only showing top 20 rows\n",
            "\n"
          ]
        }
      ]
    },
    {
      "cell_type": "code",
      "metadata": {
        "id": "CeIrNVcQLD31"
      },
      "source": [
        "recommended_movies = test_user_recommendations.join(movies, ['MOVIEID'])"
      ],
      "execution_count": 12,
      "outputs": []
    },
    {
      "cell_type": "code",
      "metadata": {
        "colab": {
          "base_uri": "https://localhost:8080/"
        },
        "id": "du-HdUuSLD31",
        "outputId": "f24e38ba-3a36-4c75-e8a4-a9e6dfdd7969"
      },
      "source": [
        "recommended_movies.show(5)"
      ],
      "execution_count": 14,
      "outputs": [
        {
          "output_type": "stream",
          "name": "stdout",
          "text": [
            "+-------+------+----------+--------------------+--------------------+\n",
            "|MOVIEID|USERID|prediction|               TITLE|              GENRES|\n",
            "+-------+------+----------+--------------------+--------------------+\n",
            "|      1|    23| 3.7771487|    Toy Story (1995)|Adventure|Animati...|\n",
            "|    293|    23|   4.84422|Léon: The Profess...|Action|Crime|Dram...|\n",
            "|    318|    23| 4.7918367|Shawshank Redempt...|         Crime|Drama|\n",
            "|    356|    23| 4.1593113| Forrest Gump (1994)|Comedy|Drama|Roma...|\n",
            "|    493|    23| 4.2100744|Menace II Society...|  Action|Crime|Drama|\n",
            "+-------+------+----------+--------------------+--------------------+\n",
            "only showing top 5 rows\n",
            "\n"
          ]
        }
      ]
    }
  ]
}