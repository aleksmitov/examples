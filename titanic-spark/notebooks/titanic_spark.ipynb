{
  "cells": [
    {
      "cell_type": "markdown",
      "metadata": {
        "id": "zJerV8_Rl6jV"
      },
      "source": [
        "### Install Layer"
      ]
    },
    {
      "cell_type": "code",
      "execution_count": 3,
      "metadata": {
        "id": "7mKKdB4vk1Uv"
      },
      "outputs": [],
      "source": [
        "pip install layer-sdk -qqq"
      ]
    },
    {
      "cell_type": "code",
      "execution_count": 4,
      "metadata": {
        "id": "1zxc3r-1k-WF"
      },
      "outputs": [],
      "source": [
        "pip install -U ipython -qqq"
      ]
    },
    {
      "cell_type": "code",
      "execution_count": 5,
      "metadata": {
        "colab": {
          "base_uri": "https://localhost:8080/"
        },
        "id": "3OuQLRvclLGS",
        "outputId": "2a045d43-c011-41c3-e809-2d126572057e"
      },
      "outputs": [
        {
          "name": "stdout",
          "output_type": "stream",
          "text": [
            "Please open the following link in your web browser. Once logged in, copy the code and paste it here.\n",
            "https://auth.beta.layer.co/authorize?response_type=code&code_challenge=Yg35QU-zIIO8xLdz29Uja7_vl7_-fyu6ddEiZehkeCU&code_challenge_method=S256&client_id=tvp1Wo8acTt4z46c7MbUB3Rg5MqfmqkN&redirect_uri=https://beta.layer.co/oauth/code&scope=offline_access&audience=https://beta.layer.co\n",
            "Code: KC-uxzBqz9cLzOoF\n",
            "Successfully logged into https://beta.layer.co\n"
          ]
        }
      ],
      "source": [
        "import layer\n",
        "layer.login()\n"
      ]
    },
    {
      "cell_type": "markdown",
      "metadata": {
        "id": "AecWhZQymGmp"
      },
      "source": [
        "### Fetch the dataset\n",
        "You will need to have run the project in order to get the dataset using the `get_dataset` command. "
      ]
    },
    {
      "cell_type": "code",
      "execution_count": null,
      "metadata": {
        "colab": {
          "base_uri": "https://localhost:8080/",
          "height": 204
        },
        "id": "J2lbND3UlMTZ",
        "outputId": "ee47c70c-73b8-45ec-a6ca-716281a58e13"
      },
      "outputs": [
        {
          "data": {
            "text/html": [
              "<div>\n",
              "<style scoped>\n",
              "    .dataframe tbody tr th:only-of-type {\n",
              "        vertical-align: middle;\n",
              "    }\n",
              "\n",
              "    .dataframe tbody tr th {\n",
              "        vertical-align: top;\n",
              "    }\n",
              "\n",
              "    .dataframe thead th {\n",
              "        text-align: right;\n",
              "    }\n",
              "</style>\n",
              "<table border=\"1\" class=\"dataframe\">\n",
              "  <thead>\n",
              "    <tr style=\"text-align: right;\">\n",
              "      <th></th>\n",
              "      <th>SURVIVED</th>\n",
              "      <th>PASSENGERID</th>\n",
              "      <th>EMBARKED</th>\n",
              "      <th>NAME</th>\n",
              "      <th>AGE</th>\n",
              "      <th>SEX</th>\n",
              "      <th>FARE</th>\n",
              "      <th>PARCH</th>\n",
              "      <th>CABIN</th>\n",
              "      <th>TICKET</th>\n",
              "      <th>PCLASS</th>\n",
              "      <th>SIBSP</th>\n",
              "    </tr>\n",
              "  </thead>\n",
              "  <tbody>\n",
              "    <tr>\n",
              "      <th>0</th>\n",
              "      <td>0</td>\n",
              "      <td>1</td>\n",
              "      <td>S</td>\n",
              "      <td>Braund, Mr. Owen Harris</td>\n",
              "      <td>22.0</td>\n",
              "      <td>male</td>\n",
              "      <td>7.2500</td>\n",
              "      <td>0</td>\n",
              "      <td>None</td>\n",
              "      <td>A/5 21171</td>\n",
              "      <td>3</td>\n",
              "      <td>1</td>\n",
              "    </tr>\n",
              "    <tr>\n",
              "      <th>1</th>\n",
              "      <td>1</td>\n",
              "      <td>2</td>\n",
              "      <td>C</td>\n",
              "      <td>Cumings, Mrs. John Bradley (Florence Briggs Th...</td>\n",
              "      <td>38.0</td>\n",
              "      <td>female</td>\n",
              "      <td>71.2833</td>\n",
              "      <td>0</td>\n",
              "      <td>C85</td>\n",
              "      <td>PC 17599</td>\n",
              "      <td>1</td>\n",
              "      <td>1</td>\n",
              "    </tr>\n",
              "    <tr>\n",
              "      <th>2</th>\n",
              "      <td>1</td>\n",
              "      <td>3</td>\n",
              "      <td>S</td>\n",
              "      <td>Heikkinen, Miss. Laina</td>\n",
              "      <td>26.0</td>\n",
              "      <td>female</td>\n",
              "      <td>7.9250</td>\n",
              "      <td>0</td>\n",
              "      <td>None</td>\n",
              "      <td>STON/O2. 3101282</td>\n",
              "      <td>3</td>\n",
              "      <td>0</td>\n",
              "    </tr>\n",
              "    <tr>\n",
              "      <th>3</th>\n",
              "      <td>1</td>\n",
              "      <td>4</td>\n",
              "      <td>S</td>\n",
              "      <td>Futrelle, Mrs. Jacques Heath (Lily May Peel)</td>\n",
              "      <td>35.0</td>\n",
              "      <td>female</td>\n",
              "      <td>53.1000</td>\n",
              "      <td>0</td>\n",
              "      <td>C123</td>\n",
              "      <td>113803</td>\n",
              "      <td>1</td>\n",
              "      <td>1</td>\n",
              "    </tr>\n",
              "    <tr>\n",
              "      <th>4</th>\n",
              "      <td>0</td>\n",
              "      <td>5</td>\n",
              "      <td>S</td>\n",
              "      <td>Allen, Mr. William Henry</td>\n",
              "      <td>35.0</td>\n",
              "      <td>male</td>\n",
              "      <td>8.0500</td>\n",
              "      <td>0</td>\n",
              "      <td>None</td>\n",
              "      <td>373450</td>\n",
              "      <td>3</td>\n",
              "      <td>0</td>\n",
              "    </tr>\n",
              "  </tbody>\n",
              "</table>\n",
              "</div>"
            ],
            "text/plain": [
              "   SURVIVED  PASSENGERID EMBARKED  ...            TICKET  PCLASS SIBSP\n",
              "0         0            1        S  ...         A/5 21171       3     1\n",
              "1         1            2        C  ...          PC 17599       1     1\n",
              "2         1            3        S  ...  STON/O2. 3101282       3     0\n",
              "3         1            4        S  ...            113803       1     1\n",
              "4         0            5        S  ...            373450       3     0\n",
              "\n",
              "[5 rows x 12 columns]"
            ]
          },
          "execution_count": 5,
          "metadata": {},
          "output_type": "execute_result"
        }
      ],
      "source": [
        "dataset = layer.get_dataset(\"titanic_dataset\")\n",
        "titanic_dataset = dataset.to_pandas()\n",
        "titanic_dataset.head()"
      ]
    },
    {
      "cell_type": "markdown",
      "metadata": {
        "id": "9NG2n2VtmJiW"
      },
      "source": [
        "### Fetch the calculated features as a Spark DataFrame\n",
        "Once features have been calculated, they can be fetched using the `get_featureset` function. "
      ]
    },
    {
      "cell_type": "code",
      "execution_count": null,
      "metadata": {
        "colab": {
          "base_uri": "https://localhost:8080/"
        },
        "id": "1_BuGwtzlQuO",
        "outputId": "d3d0afec-dae3-4a6d-c2e6-f67fb809c19d"
      },
      "outputs": [
        {
          "name": "stdout",
          "output_type": "stream",
          "text": [
            "+-----------+--------+-------------+---------+--------+---+--------+-----+\n",
            "|PASSENGERID|AGE_BAND|EMBARK_STATUS|FARE_BAND|IS_ALONE|SEX|SURVIVED|TITLE|\n",
            "+-----------+--------+-------------+---------+--------+---+--------+-----+\n",
            "|          1|       1|            0|        0|       0|  1|       0|    1|\n",
            "|          2|       2|            1|        3|       0|  0|       1|    3|\n",
            "|          3|       1|            0|        1|       1|  0|       1|    2|\n",
            "|          4|       2|            0|        3|       0|  0|       1|    3|\n",
            "|          5|       2|            0|        1|       1|  1|       0|    1|\n",
            "|          6|       1|            2|        1|       1|  1|       0|    1|\n",
            "|          7|       3|            0|        3|       1|  1|       0|    1|\n",
            "|          8|       0|            0|        2|       0|  1|       0|    4|\n",
            "|          9|       1|            0|        1|       0|  0|       1|    3|\n",
            "|         10|       0|            1|        2|       0|  0|       1|    3|\n",
            "|         11|       0|            0|        2|       0|  0|       1|    2|\n",
            "|         12|       3|            0|        2|       1|  0|       1|    2|\n",
            "|         13|       1|            0|        1|       1|  1|       0|    1|\n",
            "|         14|       2|            0|        3|       0|  1|       0|    1|\n",
            "|         15|       0|            0|        0|       1|  0|       0|    2|\n",
            "|         16|       3|            0|        2|       1|  0|       1|    3|\n",
            "|         17|       0|            2|        2|       0|  1|       0|    4|\n",
            "|         18|       1|            0|        1|       1|  1|       1|    1|\n",
            "|         19|       1|            0|        2|       0|  0|       0|    3|\n",
            "|         20|       1|            1|        0|       1|  0|       1|    3|\n",
            "+-----------+--------+-------------+---------+--------+---+--------+-----+\n",
            "only showing top 20 rows\n",
            "\n"
          ]
        }
      ],
      "source": [
        "passenger_features_spark = layer.get_featureset(\"passenger_features_spark\").to_spark()\n",
        "passenger_features_spark.show()"
      ]
    },
    {
      "cell_type": "markdown",
      "metadata": {
        "id": "knBJYvhSmWFg"
      },
      "source": [
        "### Explore the models"
      ]
    },
    {
      "cell_type": "code",
      "execution_count": null,
      "metadata": {
        "colab": {
          "base_uri": "https://localhost:8080/"
        },
        "id": "yGpDN1k6ldzT",
        "outputId": "60e374b9-46e7-45a7-c7a3-4a3643f09337"
      },
      "outputs": [
        {
          "name": "stdout",
          "output_type": "stream",
          "text": [
            "{'seed': '42', 'test_size': '0.2'}\n",
            "{'BinaryClassificationEvaluator': [(1635250815161, 0.876865671641791)]}\n"
          ]
        }
      ],
      "source": [
        "survival_model = layer.get_model(\"survival_model_spark\")\n",
        "print(survival_model.parameters)\n",
        "print(survival_model.metrics)"
      ]
    },
    {
      "cell_type": "code",
      "execution_count": null,
      "metadata": {
        "colab": {
          "base_uri": "https://localhost:8080/"
        },
        "id": "WvrhRuOiRe4J",
        "outputId": "7e80261e-04eb-4978-a0d6-62ba9c18bdc5"
      },
      "outputs": [
        {
          "data": {
            "text/plain": [
              "PipelineModel_d0c9db1acdf3"
            ]
          },
          "execution_count": 8,
          "metadata": {},
          "output_type": "execute_result"
        }
      ],
      "source": [
        "trained_classifier = survival_model.get_train()\n",
        "trained_classifier"
      ]
    },
    {
      "cell_type": "markdown",
      "metadata": {
        "id": "Y0VnG7UmmaNM"
      },
      "source": [
        "#### Make a prediction"
      ]
    },
    {
      "cell_type": "code",
      "execution_count": null,
      "metadata": {
        "id": "jXzfhBKurmg5"
      },
      "outputs": [],
      "source": [
        "!apt-get install openjdk-8-jdk-headless -qq > /dev/null \n",
        "!wget -q https://archive.apache.org/dist/spark/spark-3.2.0/spark-3.2.0-bin-hadoop3.2.tgz\n"
      ]
    },
    {
      "cell_type": "code",
      "execution_count": null,
      "metadata": {
        "id": "ROu0xI5DStGj"
      },
      "outputs": [],
      "source": [
        "!tar xzf spark-3.2.0-bin-hadoop3.2.tgz"
      ]
    },
    {
      "cell_type": "code",
      "execution_count": null,
      "metadata": {
        "id": "4ucZhqIisuQb"
      },
      "outputs": [],
      "source": [
        "import os \n",
        "os.environ[\"JAVA_HOME\"] = \"/usr/lib/jvm/java-8-openjdk-amd64\" \n",
        "os.environ[\"SPARK_HOME\"] = \"/content/spark-3.2.0-bin-hadoop3.2\""
      ]
    },
    {
      "cell_type": "code",
      "execution_count": 6,
      "metadata": {
        "id": "_e84EO-ys29o"
      },
      "outputs": [],
      "source": [
        "pip install findspark -qqq"
      ]
    },
    {
      "cell_type": "code",
      "execution_count": null,
      "metadata": {
        "id": "zeZcI_SzsxJs"
      },
      "outputs": [],
      "source": [
        "import findspark \n",
        "findspark.init()"
      ]
    },
    {
      "cell_type": "code",
      "execution_count": null,
      "metadata": {
        "id": "jrRcSuJjtFVN"
      },
      "outputs": [],
      "source": [
        "import pyspark\n",
        "sc = pyspark.SparkContext.getOrCreate();"
      ]
    },
    {
      "cell_type": "code",
      "execution_count": null,
      "metadata": {
        "id": "z4PWRu9CsFef"
      },
      "outputs": [],
      "source": [
        "from pyspark.sql import SQLContext\n"
      ]
    },
    {
      "cell_type": "code",
      "execution_count": null,
      "metadata": {
        "id": "zn-7iaSUwGc2"
      },
      "outputs": [],
      "source": [
        "sqlContext  = SQLContext(sc)\n",
        "\n",
        "test = sqlContext.createDataFrame([\n",
        "    (0, 0,1,1,0,1),\n",
        "    ], [\"EMBARK_STATUS\", \"FARE_BAND\",\"SEX\",\"AGE_BAND\",\"IS_ALONE\",\"TITLE\"])"
      ]
    },
    {
      "cell_type": "code",
      "execution_count": null,
      "metadata": {
        "colab": {
          "base_uri": "https://localhost:8080/"
        },
        "id": "ta8z2uR6wNS0",
        "outputId": "6ab61e43-e0ac-4605-b488-b04cff1e8c0d"
      },
      "outputs": [
        {
          "name": "stdout",
          "output_type": "stream",
          "text": [
            "+-------------+---------+---+--------+--------+-----+\n",
            "|EMBARK_STATUS|FARE_BAND|SEX|AGE_BAND|IS_ALONE|TITLE|\n",
            "+-------------+---------+---+--------+--------+-----+\n",
            "|            0|        0|  1|       1|       0|    1|\n",
            "+-------------+---------+---+--------+--------+-----+\n",
            "\n"
          ]
        }
      ],
      "source": [
        "test.show()"
      ]
    },
    {
      "cell_type": "code",
      "execution_count": null,
      "metadata": {
        "id": "J6A_acfsyLny"
      },
      "outputs": [],
      "source": [
        "from pyspark.ml.feature import VectorAssembler\n"
      ]
    },
    {
      "cell_type": "code",
      "execution_count": null,
      "metadata": {
        "id": "Jb825kVLyxRP"
      },
      "outputs": [],
      "source": [
        "feat_cols = ['AGE_BAND', 'EMBARK_STATUS', 'FARE_BAND', 'IS_ALONE', 'SEX', 'TITLE']\n",
        "vec_assember = VectorAssembler(inputCols=feat_cols, outputCol='features')\n",
        "test_data = vec_assember.transform(test)"
      ]
    },
    {
      "cell_type": "code",
      "execution_count": null,
      "metadata": {
        "colab": {
          "base_uri": "https://localhost:8080/"
        },
        "id": "1EHqG31ZzeMO",
        "outputId": "d548b3b7-ede2-49a1-e6f7-2eb6dd10a9e8"
      },
      "outputs": [
        {
          "name": "stdout",
          "output_type": "stream",
          "text": [
            "+-------------------------+\n",
            "|features                 |\n",
            "+-------------------------+\n",
            "|[1.0,0.0,0.0,0.0,1.0,1.0]|\n",
            "+-------------------------+\n",
            "\n"
          ]
        }
      ],
      "source": [
        "test_data.select(\"features\").show(1, False)"
      ]
    },
    {
      "cell_type": "code",
      "execution_count": null,
      "metadata": {
        "colab": {
          "base_uri": "https://localhost:8080/"
        },
        "id": "LRSzxxM0zfrg",
        "outputId": "640bb6a4-debb-425d-e324-7fad7183c426"
      },
      "outputs": [
        {
          "data": {
            "text/plain": [
              "DataFrame[EMBARK_STATUS: bigint, FARE_BAND: bigint, SEX: bigint, AGE_BAND: bigint, IS_ALONE: bigint, TITLE: bigint, features: vector]"
            ]
          },
          "execution_count": 24,
          "metadata": {},
          "output_type": "execute_result"
        }
      ],
      "source": [
        " test_data"
      ]
    },
    {
      "cell_type": "code",
      "execution_count": null,
      "metadata": {
        "id": "lFsf75GCl0jB"
      },
      "outputs": [],
      "source": [
        "predictions = trained_classifier.transform(test_data)\n"
      ]
    },
    {
      "cell_type": "code",
      "execution_count": null,
      "metadata": {
        "colab": {
          "base_uri": "https://localhost:8080/"
        },
        "id": "htMEYj2K0IlI",
        "outputId": "a9d0242b-fc8f-4c89-8fbc-16dde0a9cb31"
      },
      "outputs": [
        {
          "data": {
            "text/plain": [
              "DataFrame[EMBARK_STATUS: bigint, FARE_BAND: bigint, SEX: bigint, AGE_BAND: bigint, IS_ALONE: bigint, TITLE: bigint, features: vector, rawPrediction: vector, probability: vector, prediction: double]"
            ]
          },
          "execution_count": 21,
          "metadata": {},
          "output_type": "execute_result"
        }
      ],
      "source": [
        "predictions"
      ]
    },
    {
      "cell_type": "code",
      "execution_count": null,
      "metadata": {
        "colab": {
          "base_uri": "https://localhost:8080/"
        },
        "id": "qyoA6Nnzz-QT",
        "outputId": "a25cb2d6-eadc-4f00-ec3c-c58eb3dc8734"
      },
      "outputs": [
        {
          "name": "stdout",
          "output_type": "stream",
          "text": [
            "+--------------------+--------+----------+---+---------+-------------+--------+-----+\n",
            "|         probability|AGE_BAND|prediction|SEX|FARE_BAND|EMBARK_STATUS|IS_ALONE|TITLE|\n",
            "+--------------------+--------+----------+---+---------+-------------+--------+-----+\n",
            "|[0.94872612797609...|       1|       0.0|  1|        0|            0|       0|    1|\n",
            "+--------------------+--------+----------+---+---------+-------------+--------+-----+\n",
            "\n"
          ]
        }
      ],
      "source": [
        "predictions.select('probability','AGE_BAND','prediction','SEX','FARE_BAND','EMBARK_STATUS','IS_ALONE','TITLE').show()\n"
      ]
    },
    {
      "cell_type": "code",
      "execution_count": null,
      "metadata": {
        "id": "8665m6zQ3X5u"
      },
      "outputs": [],
      "source": []
    }
  ],
  "metadata": {
    "colab": {
      "collapsed_sections": [],
      "name": "titanic-spark.ipynb",
      "provenance": []
    },
    "kernelspec": {
      "display_name": "Python 3",
      "name": "python3"
    },
    "language_info": {
      "name": "python"
    }
  },
  "nbformat": 4,
  "nbformat_minor": 0
}
