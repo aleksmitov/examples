{
  "nbformat": 4,
  "nbformat_minor": 0,
  "metadata": {
    "colab": {
      "name": "fraud_detection.ipynb",
      "provenance": [],
      "collapsed_sections": []
    },
    "kernelspec": {
      "name": "python3",
      "display_name": "Python 3"
    },
    "language_info": {
      "name": "python"
    }
  },
  "cells": [
    {
      "cell_type": "code",
      "metadata": {
        "id": "DMvLBq8iroHY"
      },
      "source": [
        "pip install layer-sdk -qqq"
      ],
      "execution_count": null,
      "outputs": []
    },
    {
      "cell_type": "code",
      "metadata": {
        "id": "eP-YnUYuh2m3"
      },
      "source": [
        "pip install xgboost==1.3.3"
      ],
      "execution_count": null,
      "outputs": []
    },
    {
      "cell_type": "code",
      "metadata": {
        "id": "Y2sM-Q3Zrt0N"
      },
      "source": [
        "pip install -U ipython -qqq"
      ],
      "execution_count": null,
      "outputs": []
    },
    {
      "cell_type": "code",
      "metadata": {
        "id": "76kuJbuTr5o7"
      },
      "source": [
        "import layer\n",
        "layer.login()"
      ],
      "execution_count": null,
      "outputs": []
    },
    {
      "cell_type": "markdown",
      "metadata": {
        "id": "lxiMh_PGsg9V"
      },
      "source": [
        "## Fetching the dataset"
      ]
    },
    {
      "cell_type": "code",
      "metadata": {
        "colab": {
          "base_uri": "https://localhost:8080/",
          "height": 204
        },
        "id": "8PnNEbWPr5rf",
        "outputId": "5eba0170-9bfa-4bbe-9448-febd6753d257"
      },
      "source": [
        "transactions = layer.get_dataset(\"transactions\")\n",
        "transactions_dataset = transactions.to_pandas()\n",
        "transactions_dataset.head()"
      ],
      "execution_count": null,
      "outputs": [
        {
          "output_type": "execute_result",
          "data": {
            "text/html": [
              "<div>\n",
              "<style scoped>\n",
              "    .dataframe tbody tr th:only-of-type {\n",
              "        vertical-align: middle;\n",
              "    }\n",
              "\n",
              "    .dataframe tbody tr th {\n",
              "        vertical-align: top;\n",
              "    }\n",
              "\n",
              "    .dataframe thead th {\n",
              "        text-align: right;\n",
              "    }\n",
              "</style>\n",
              "<table border=\"1\" class=\"dataframe\">\n",
              "  <thead>\n",
              "    <tr style=\"text-align: right;\">\n",
              "      <th></th>\n",
              "      <th>NEWBALANCEDEST</th>\n",
              "      <th>NEWBALANCEORIG</th>\n",
              "      <th>NAMEDEST</th>\n",
              "      <th>OLDBALANCEDEST</th>\n",
              "      <th>STEP</th>\n",
              "      <th>OLDBALANCEORG</th>\n",
              "      <th>AMOUNT</th>\n",
              "      <th>NAMEORIG</th>\n",
              "      <th>ISFLAGGEDFRAUD</th>\n",
              "      <th>TRANSACTIONID</th>\n",
              "      <th>ISFRAUD</th>\n",
              "      <th>TYPE</th>\n",
              "    </tr>\n",
              "  </thead>\n",
              "  <tbody>\n",
              "    <tr>\n",
              "      <th>0</th>\n",
              "      <td>0.0</td>\n",
              "      <td>160296.36</td>\n",
              "      <td>M1979787155</td>\n",
              "      <td>0.0</td>\n",
              "      <td>1</td>\n",
              "      <td>170136.0</td>\n",
              "      <td>9839.64</td>\n",
              "      <td>C1231006815</td>\n",
              "      <td>0</td>\n",
              "      <td>0</td>\n",
              "      <td>0</td>\n",
              "      <td>PAYMENT</td>\n",
              "    </tr>\n",
              "    <tr>\n",
              "      <th>1</th>\n",
              "      <td>0.0</td>\n",
              "      <td>19384.72</td>\n",
              "      <td>M2044282225</td>\n",
              "      <td>0.0</td>\n",
              "      <td>1</td>\n",
              "      <td>21249.0</td>\n",
              "      <td>1864.28</td>\n",
              "      <td>C1666544295</td>\n",
              "      <td>0</td>\n",
              "      <td>1</td>\n",
              "      <td>0</td>\n",
              "      <td>PAYMENT</td>\n",
              "    </tr>\n",
              "    <tr>\n",
              "      <th>2</th>\n",
              "      <td>0.0</td>\n",
              "      <td>0.00</td>\n",
              "      <td>C553264065</td>\n",
              "      <td>0.0</td>\n",
              "      <td>1</td>\n",
              "      <td>181.0</td>\n",
              "      <td>181.00</td>\n",
              "      <td>C1305486145</td>\n",
              "      <td>0</td>\n",
              "      <td>2</td>\n",
              "      <td>1</td>\n",
              "      <td>TRANSFER</td>\n",
              "    </tr>\n",
              "    <tr>\n",
              "      <th>3</th>\n",
              "      <td>0.0</td>\n",
              "      <td>0.00</td>\n",
              "      <td>C38997010</td>\n",
              "      <td>21182.0</td>\n",
              "      <td>1</td>\n",
              "      <td>181.0</td>\n",
              "      <td>181.00</td>\n",
              "      <td>C840083671</td>\n",
              "      <td>0</td>\n",
              "      <td>3</td>\n",
              "      <td>1</td>\n",
              "      <td>CASH_OUT</td>\n",
              "    </tr>\n",
              "    <tr>\n",
              "      <th>4</th>\n",
              "      <td>0.0</td>\n",
              "      <td>29885.86</td>\n",
              "      <td>M1230701703</td>\n",
              "      <td>0.0</td>\n",
              "      <td>1</td>\n",
              "      <td>41554.0</td>\n",
              "      <td>11668.14</td>\n",
              "      <td>C2048537720</td>\n",
              "      <td>0</td>\n",
              "      <td>4</td>\n",
              "      <td>0</td>\n",
              "      <td>PAYMENT</td>\n",
              "    </tr>\n",
              "  </tbody>\n",
              "</table>\n",
              "</div>"
            ],
            "text/plain": [
              "   NEWBALANCEDEST  NEWBALANCEORIG  ... ISFRAUD      TYPE\n",
              "0             0.0       160296.36  ...       0   PAYMENT\n",
              "1             0.0        19384.72  ...       0   PAYMENT\n",
              "2             0.0            0.00  ...       1  TRANSFER\n",
              "3             0.0            0.00  ...       1  CASH_OUT\n",
              "4             0.0        29885.86  ...       0   PAYMENT\n",
              "\n",
              "[5 rows x 12 columns]"
            ]
          },
          "metadata": {},
          "execution_count": 46
        }
      ]
    },
    {
      "cell_type": "markdown",
      "metadata": {
        "id": "sB03Bukhsqvd"
      },
      "source": [
        "### Fetching features"
      ]
    },
    {
      "cell_type": "code",
      "metadata": {
        "colab": {
          "base_uri": "https://localhost:8080/",
          "height": 204
        },
        "id": "Os-CmXNSr5uJ",
        "outputId": "9dcc87b4-547d-43de-8745-d032ee83223a"
      },
      "source": [
        "transaction_features = layer.get_featureset(\"transaction_features\").to_pandas()\n",
        "transaction_features.head()"
      ],
      "execution_count": null,
      "outputs": [
        {
          "output_type": "execute_result",
          "data": {
            "text/html": [
              "<div>\n",
              "<style scoped>\n",
              "    .dataframe tbody tr th:only-of-type {\n",
              "        vertical-align: middle;\n",
              "    }\n",
              "\n",
              "    .dataframe tbody tr th {\n",
              "        vertical-align: top;\n",
              "    }\n",
              "\n",
              "    .dataframe thead th {\n",
              "        text-align: right;\n",
              "    }\n",
              "</style>\n",
              "<table border=\"1\" class=\"dataframe\">\n",
              "  <thead>\n",
              "    <tr style=\"text-align: right;\">\n",
              "      <th></th>\n",
              "      <th>transactionId</th>\n",
              "      <th>errorBalanceDest</th>\n",
              "      <th>errorBalanceOrig</th>\n",
              "      <th>is_fraud</th>\n",
              "      <th>new_balance_dest</th>\n",
              "      <th>new_balance_orig</th>\n",
              "      <th>old_balance_dest</th>\n",
              "      <th>old_balance_orig</th>\n",
              "      <th>type</th>\n",
              "    </tr>\n",
              "  </thead>\n",
              "  <tbody>\n",
              "    <tr>\n",
              "      <th>0</th>\n",
              "      <td>0</td>\n",
              "      <td>9839.64</td>\n",
              "      <td>0.0</td>\n",
              "      <td>0</td>\n",
              "      <td>-1.0</td>\n",
              "      <td>160296.36</td>\n",
              "      <td>-1.0</td>\n",
              "      <td>170136.0</td>\n",
              "      <td>4</td>\n",
              "    </tr>\n",
              "    <tr>\n",
              "      <th>1</th>\n",
              "      <td>1</td>\n",
              "      <td>1864.28</td>\n",
              "      <td>0.0</td>\n",
              "      <td>0</td>\n",
              "      <td>-1.0</td>\n",
              "      <td>19384.72</td>\n",
              "      <td>-1.0</td>\n",
              "      <td>21249.0</td>\n",
              "      <td>4</td>\n",
              "    </tr>\n",
              "    <tr>\n",
              "      <th>2</th>\n",
              "      <td>2</td>\n",
              "      <td>181.00</td>\n",
              "      <td>0.0</td>\n",
              "      <td>1</td>\n",
              "      <td>-1.0</td>\n",
              "      <td>0.00</td>\n",
              "      <td>-1.0</td>\n",
              "      <td>181.0</td>\n",
              "      <td>0</td>\n",
              "    </tr>\n",
              "    <tr>\n",
              "      <th>3</th>\n",
              "      <td>3</td>\n",
              "      <td>21363.00</td>\n",
              "      <td>0.0</td>\n",
              "      <td>1</td>\n",
              "      <td>0.0</td>\n",
              "      <td>0.00</td>\n",
              "      <td>21182.0</td>\n",
              "      <td>181.0</td>\n",
              "      <td>1</td>\n",
              "    </tr>\n",
              "    <tr>\n",
              "      <th>4</th>\n",
              "      <td>4</td>\n",
              "      <td>11668.14</td>\n",
              "      <td>0.0</td>\n",
              "      <td>0</td>\n",
              "      <td>-1.0</td>\n",
              "      <td>29885.86</td>\n",
              "      <td>-1.0</td>\n",
              "      <td>41554.0</td>\n",
              "      <td>4</td>\n",
              "    </tr>\n",
              "  </tbody>\n",
              "</table>\n",
              "</div>"
            ],
            "text/plain": [
              "   transactionId  errorBalanceDest  ...  old_balance_orig  type\n",
              "0              0           9839.64  ...          170136.0     4\n",
              "1              1           1864.28  ...           21249.0     4\n",
              "2              2            181.00  ...             181.0     0\n",
              "3              3          21363.00  ...             181.0     1\n",
              "4              4          11668.14  ...           41554.0     4\n",
              "\n",
              "[5 rows x 9 columns]"
            ]
          },
          "metadata": {},
          "execution_count": 47
        }
      ]
    },
    {
      "cell_type": "code",
      "metadata": {
        "colab": {
          "base_uri": "https://localhost:8080/"
        },
        "id": "sv4crZ6uI5zm",
        "outputId": "da5d029e-6b1f-4a01-db41-81d186d1e23f"
      },
      "source": [
        "transaction_features.columns"
      ],
      "execution_count": null,
      "outputs": [
        {
          "output_type": "execute_result",
          "data": {
            "text/plain": [
              "Index(['transactionId', 'errorBalanceDest', 'errorBalanceOrig', 'is_fraud',\n",
              "       'new_balance_dest', 'new_balance_orig', 'old_balance_dest',\n",
              "       'old_balance_orig', 'type'],\n",
              "      dtype='object')"
            ]
          },
          "metadata": {},
          "execution_count": 48
        }
      ]
    },
    {
      "cell_type": "markdown",
      "metadata": {
        "id": "hnzuA3B2s_3x"
      },
      "source": [
        "### Fetch model and make predictions"
      ]
    },
    {
      "cell_type": "code",
      "metadata": {
        "colab": {
          "base_uri": "https://localhost:8080/"
        },
        "id": "LpfkG9VNr5wx",
        "outputId": "468fdb84-bae4-4c61-cede-b24ccc262137"
      },
      "source": [
        "fraud_model = layer.get_model(\"fraud_detection_model\")\n",
        "print(fraud_model.parameters)\n",
        "print(fraud_model.metrics)"
      ],
      "execution_count": null,
      "outputs": [
        {
          "output_type": "stream",
          "name": "stdout",
          "text": [
            "{'test_size': '0.2', 'max_depth': '3', 'random_state': '13', 'objective': 'binary:logitraw'}\n",
            "{'auprc': [(1635413839555, 1.0)]}\n"
          ]
        }
      ]
    },
    {
      "cell_type": "code",
      "metadata": {
        "colab": {
          "base_uri": "https://localhost:8080/"
        },
        "id": "WiyeNxmbtQYv",
        "outputId": "e11aaa09-2877-472d-9a0d-a4f3d5664e0b"
      },
      "source": [
        "trained_classifier = fraud_model.get_train()\n",
        "trained_classifier"
      ],
      "execution_count": null,
      "outputs": [
        {
          "output_type": "execute_result",
          "data": {
            "text/plain": [
              "<xgboost.core.Booster at 0x7f2f81a56e50>"
            ]
          },
          "metadata": {},
          "execution_count": 70
        }
      ]
    },
    {
      "cell_type": "code",
      "metadata": {
        "id": "mDePg8hvuq6v"
      },
      "source": [
        "import numpy as np\n",
        "data = np.array([[9839.64,0,1,19384.72,21182.0,41554.0,4]])"
      ],
      "execution_count": null,
      "outputs": []
    },
    {
      "cell_type": "code",
      "metadata": {
        "colab": {
          "base_uri": "https://localhost:8080/"
        },
        "id": "OHwJNl6hvtn6",
        "outputId": "defe7d35-beb0-4ee2-83ac-c64ef4dc7795"
      },
      "source": [
        "data"
      ],
      "execution_count": null,
      "outputs": [
        {
          "output_type": "execute_result",
          "data": {
            "text/plain": [
              "array([[9.839640e+03, 0.000000e+00, 1.000000e+00, 1.938472e+04,\n",
              "        2.118200e+04, 4.155400e+04, 4.000000e+00]])"
            ]
          },
          "metadata": {},
          "execution_count": 72
        }
      ]
    },
    {
      "cell_type": "code",
      "metadata": {
        "id": "IrJVYRLBux9E"
      },
      "source": [
        "import pandas as pd\n",
        "test_data = pd.DataFrame(data, columns=['errorBalanceDest','errorBalanceOrig','new_balance_dest','new_balance_orig','old_balance_dest','old_balance_orig','type'])"
      ],
      "execution_count": null,
      "outputs": []
    },
    {
      "cell_type": "code",
      "metadata": {
        "colab": {
          "base_uri": "https://localhost:8080/",
          "height": 80
        },
        "id": "blvVAmp6vzXS",
        "outputId": "343bb755-4beb-446a-f3e8-497d546c6527"
      },
      "source": [
        "test_data"
      ],
      "execution_count": null,
      "outputs": [
        {
          "output_type": "execute_result",
          "data": {
            "text/html": [
              "<div>\n",
              "<style scoped>\n",
              "    .dataframe tbody tr th:only-of-type {\n",
              "        vertical-align: middle;\n",
              "    }\n",
              "\n",
              "    .dataframe tbody tr th {\n",
              "        vertical-align: top;\n",
              "    }\n",
              "\n",
              "    .dataframe thead th {\n",
              "        text-align: right;\n",
              "    }\n",
              "</style>\n",
              "<table border=\"1\" class=\"dataframe\">\n",
              "  <thead>\n",
              "    <tr style=\"text-align: right;\">\n",
              "      <th></th>\n",
              "      <th>errorBalanceDest</th>\n",
              "      <th>errorBalanceOrig</th>\n",
              "      <th>new_balance_dest</th>\n",
              "      <th>new_balance_orig</th>\n",
              "      <th>old_balance_dest</th>\n",
              "      <th>old_balance_orig</th>\n",
              "      <th>type</th>\n",
              "    </tr>\n",
              "  </thead>\n",
              "  <tbody>\n",
              "    <tr>\n",
              "      <th>0</th>\n",
              "      <td>9839.64</td>\n",
              "      <td>0.0</td>\n",
              "      <td>1.0</td>\n",
              "      <td>19384.72</td>\n",
              "      <td>21182.0</td>\n",
              "      <td>41554.0</td>\n",
              "      <td>4.0</td>\n",
              "    </tr>\n",
              "  </tbody>\n",
              "</table>\n",
              "</div>"
            ],
            "text/plain": [
              "   errorBalanceDest  errorBalanceOrig  ...  old_balance_orig  type\n",
              "0           9839.64               0.0  ...           41554.0   4.0\n",
              "\n",
              "[1 rows x 7 columns]"
            ]
          },
          "metadata": {},
          "execution_count": 74
        }
      ]
    },
    {
      "cell_type": "code",
      "metadata": {
        "id": "knWwR8gouLeN"
      },
      "source": [
        "import xgboost as xgb\n"
      ],
      "execution_count": null,
      "outputs": []
    },
    {
      "cell_type": "code",
      "metadata": {
        "id": "T6Ppd99AuLg1"
      },
      "source": [
        "dtest = xgb.DMatrix(test_data)"
      ],
      "execution_count": null,
      "outputs": []
    },
    {
      "cell_type": "code",
      "metadata": {
        "colab": {
          "base_uri": "https://localhost:8080/"
        },
        "id": "5TH7oSk6lNuP",
        "outputId": "a84d9a32-d0c7-4b98-9c50-5adbc896c0e2"
      },
      "source": [
        "trained_classifier"
      ],
      "execution_count": null,
      "outputs": [
        {
          "output_type": "execute_result",
          "data": {
            "text/plain": [
              "<xgboost.core.Booster at 0x7f2f81a56e50>"
            ]
          },
          "metadata": {},
          "execution_count": 77
        }
      ]
    },
    {
      "cell_type": "code",
      "metadata": {
        "colab": {
          "base_uri": "https://localhost:8080/",
          "height": 265
        },
        "id": "zDUr_HiHyAVq",
        "outputId": "b75c223e-53cc-448a-bdb7-bb69003f7a2b"
      },
      "source": [
        "xgb.plot_tree(trained_classifier, num_trees=2)\n"
      ],
      "execution_count": null,
      "outputs": [
        {
          "output_type": "execute_result",
          "data": {
            "text/plain": [
              "<matplotlib.axes._subplots.AxesSubplot at 0x7f2f8018a8d0>"
            ]
          },
          "metadata": {},
          "execution_count": 78
        },
        {
          "output_type": "display_data",
          "data": {
            "image/png": "[encoded data removed]",
            "text/plain": [
              "<Figure size 432x288 with 1 Axes>"
            ]
          },
          "metadata": {
            "needs_background": "light"
          }
        }
      ]
    },
    {
      "cell_type": "code",
      "metadata": {
        "id": "Z5STxaEXtiF-"
      },
      "source": [
        "predictions = trained_classifier.predict(dtest)\n"
      ],
      "execution_count": null,
      "outputs": []
    },
    {
      "cell_type": "code",
      "metadata": {
        "colab": {
          "base_uri": "https://localhost:8080/"
        },
        "id": "4JU4lOsrkcMn",
        "outputId": "9905b985-17f3-438d-b0b8-44919313de23"
      },
      "source": [
        "dtest.feature_names"
      ],
      "execution_count": null,
      "outputs": [
        {
          "output_type": "execute_result",
          "data": {
            "text/plain": [
              "['errorBalanceDest',\n",
              " 'errorBalanceOrig',\n",
              " 'new_balance_dest',\n",
              " 'new_balance_orig',\n",
              " 'old_balance_dest',\n",
              " 'old_balance_orig',\n",
              " 'type']"
            ]
          },
          "metadata": {},
          "execution_count": 80
        }
      ]
    },
    {
      "cell_type": "code",
      "metadata": {
        "colab": {
          "base_uri": "https://localhost:8080/"
        },
        "id": "TiLOKxVdt4Qu",
        "outputId": "8331e7e8-f24b-4a40-8166-94a20e197aa1"
      },
      "source": [
        "predictions"
      ],
      "execution_count": null,
      "outputs": [
        {
          "output_type": "execute_result",
          "data": {
            "text/plain": [
              "array([], shape=(1, 0), dtype=float32)"
            ]
          },
          "metadata": {},
          "execution_count": 81
        }
      ]
    },
    {
      "cell_type": "code",
      "metadata": {
        "colab": {
          "base_uri": "https://localhost:8080/"
        },
        "id": "VIcohyJufnyn",
        "outputId": "e578b468-307e-45cc-b76e-bc1cee52d265"
      },
      "source": [
        "!curl --header \"Content-Type: application/json; format=pandas-records\" \\\n",
        "  --request POST \\\n",
        "  --data '[{\"errorBalanceDest\":9839.64, \"errorBalanceOrig\":0, \"new_balance_dest\":1, \"new_balance_orig\":19384.72,\"old_balance_dest\":21182.0,\"old_balance_orig\":41554.0,\"type\":4}]' \\\n",
        "https://c2f5f4e0-2017-4ec0-9667-4be8fa92660b.inferences.beta.layer.co/invocations"
      ],
      "execution_count": null,
      "outputs": [
        {
          "output_type": "stream",
          "name": "stdout",
          "text": [
            "[-3.594420909881592]"
          ]
        }
      ]
    },
    {
      "cell_type": "code",
      "metadata": {
        "id": "3nYidBWASi5L"
      },
      "source": [
        ""
      ],
      "execution_count": null,
      "outputs": []
    }
  ]
}